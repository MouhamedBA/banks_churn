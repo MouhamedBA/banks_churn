{
 "cells": [
  {
   "cell_type": "markdown",
   "metadata": {},
   "source": [
    "# BANKS' CHURN "
   ]
  },
  {
   "cell_type": "markdown",
   "metadata": {},
   "source": [
    "Author : Mouhamed Ba - Yaa Adu Kesewaah - Sidy Mahamadou Diallo - Hermann Djophant"
   ]
  },
  {
   "cell_type": "markdown",
   "metadata": {},
   "source": [
    "Pour une banque il est plus coûteux d'essayer d'attirer de nouveaux clients que de convaincre les ancies de rester. Par conséquent, elles ont tout intérêt à mettre en place des stratégies efficaces pour fidéliser leur client dans ce secteur très concurrentiel. Ce projet a pour objectif de prédire le risque de perte de clientèle \"Churn Risk\" d'une banque pour que celle-ci puisse mettre en place des mesures pour les retenir.  "
   ]
  },
  {
   "cell_type": "markdown",
   "metadata": {},
   "source": [
    "<b> Les packages </b>"
   ]
  },
  {
   "cell_type": "code",
   "execution_count": 17,
   "metadata": {},
   "outputs": [],
   "source": [
    "# Ignore les warnings\n",
    "from warnings import simplefilter\n",
    "simplefilter(action='ignore', category=FutureWarning)\n",
    "\n",
    "# Traitement des données\n",
    "import pandas \n",
    "\n",
    "# Tableaux, Matrices, Maths\n",
    "import numpy\n",
    "\n",
    "# Visualisation\n",
    "import matplotlib.pyplot as plt\n",
    "%matplotlib inline\n",
    "import seaborn\n",
    "seaborn.set(style=\"white\")\n",
    "\n",
    "# Outils pour les modèles\n",
    "\n",
    "from sklearn.model_selection import train_test_split, GridSearchCV, cross_val_score\n",
    "from sklearn.feature_selection import RFE\n",
    "from sklearn.metrics import accuracy_score, recall_score, precision_score, confusion_matrix, f1_score, roc_curve, auc\n",
    "\n",
    "# Les modèles\n",
    "from sklearn.linear_model import LogisticRegression\n",
    "from sklearn.neighbors import KNeighborsClassifier\n",
    "from sklearn.ensemble import RandomForestClassifier\n",
    "from sklearn.svm import SVC"
   ]
  },
  {
   "cell_type": "markdown",
   "metadata": {},
   "source": [
    "## Cadre"
   ]
  },
  {
   "cell_type": "markdown",
   "metadata": {},
   "source": [
    "Afin d'identifier des signes de désengagement d'un client, il est import d'avoir une première approche empirique des pratiques du client. Pour celà on se dote d'un jeu de données décrivant les activités du client et son profil.  Ainsi nos objectifs sont les suivant :\n",
    "- Déterminer sle risque de désengagement du client\n",
    "- Choisir le modèle un modèle efficace qui va permettre d'orienter la prise de décisions des banques afin de retenir leurs clients"
   ]
  },
  {
   "cell_type": "markdown",
   "metadata": {},
   "source": [
    "## Traitement et description des données"
   ]
  },
  {
   "cell_type": "markdown",
   "metadata": {},
   "source": [
    "### Description des données"
   ]
  },
  {
   "cell_type": "code",
   "execution_count": 18,
   "metadata": {},
   "outputs": [],
   "source": [
    "customers = pandas.read_csv(\"churn_Modelling.csv\")"
   ]
  },
  {
   "cell_type": "code",
   "execution_count": 5,
   "metadata": {},
   "outputs": [
    {
     "data": {
      "text/html": [
       "<div>\n",
       "<style scoped>\n",
       "    .dataframe tbody tr th:only-of-type {\n",
       "        vertical-align: middle;\n",
       "    }\n",
       "\n",
       "    .dataframe tbody tr th {\n",
       "        vertical-align: top;\n",
       "    }\n",
       "\n",
       "    .dataframe thead th {\n",
       "        text-align: right;\n",
       "    }\n",
       "</style>\n",
       "<table border=\"1\" class=\"dataframe\">\n",
       "  <thead>\n",
       "    <tr style=\"text-align: right;\">\n",
       "      <th></th>\n",
       "      <th>RowNumber</th>\n",
       "      <th>CustomerId</th>\n",
       "      <th>Surname</th>\n",
       "      <th>CreditScore</th>\n",
       "      <th>Geography</th>\n",
       "      <th>Gender</th>\n",
       "      <th>Age</th>\n",
       "      <th>Tenure</th>\n",
       "      <th>Balance</th>\n",
       "      <th>NumOfProducts</th>\n",
       "      <th>HasCrCard</th>\n",
       "      <th>IsActiveMember</th>\n",
       "      <th>EstimatedSalary</th>\n",
       "      <th>Exited</th>\n",
       "    </tr>\n",
       "  </thead>\n",
       "  <tbody>\n",
       "    <tr>\n",
       "      <th>0</th>\n",
       "      <td>1</td>\n",
       "      <td>15634602</td>\n",
       "      <td>Hargrave</td>\n",
       "      <td>619</td>\n",
       "      <td>France</td>\n",
       "      <td>Female</td>\n",
       "      <td>42</td>\n",
       "      <td>2</td>\n",
       "      <td>0.00</td>\n",
       "      <td>1</td>\n",
       "      <td>1</td>\n",
       "      <td>1</td>\n",
       "      <td>101348.88</td>\n",
       "      <td>1</td>\n",
       "    </tr>\n",
       "    <tr>\n",
       "      <th>1</th>\n",
       "      <td>2</td>\n",
       "      <td>15647311</td>\n",
       "      <td>Hill</td>\n",
       "      <td>608</td>\n",
       "      <td>Spain</td>\n",
       "      <td>Female</td>\n",
       "      <td>41</td>\n",
       "      <td>1</td>\n",
       "      <td>83807.86</td>\n",
       "      <td>1</td>\n",
       "      <td>0</td>\n",
       "      <td>1</td>\n",
       "      <td>112542.58</td>\n",
       "      <td>0</td>\n",
       "    </tr>\n",
       "    <tr>\n",
       "      <th>2</th>\n",
       "      <td>3</td>\n",
       "      <td>15619304</td>\n",
       "      <td>Onio</td>\n",
       "      <td>502</td>\n",
       "      <td>France</td>\n",
       "      <td>Female</td>\n",
       "      <td>42</td>\n",
       "      <td>8</td>\n",
       "      <td>159660.80</td>\n",
       "      <td>3</td>\n",
       "      <td>1</td>\n",
       "      <td>0</td>\n",
       "      <td>113931.57</td>\n",
       "      <td>1</td>\n",
       "    </tr>\n",
       "    <tr>\n",
       "      <th>3</th>\n",
       "      <td>4</td>\n",
       "      <td>15701354</td>\n",
       "      <td>Boni</td>\n",
       "      <td>699</td>\n",
       "      <td>France</td>\n",
       "      <td>Female</td>\n",
       "      <td>39</td>\n",
       "      <td>1</td>\n",
       "      <td>0.00</td>\n",
       "      <td>2</td>\n",
       "      <td>0</td>\n",
       "      <td>0</td>\n",
       "      <td>93826.63</td>\n",
       "      <td>0</td>\n",
       "    </tr>\n",
       "    <tr>\n",
       "      <th>4</th>\n",
       "      <td>5</td>\n",
       "      <td>15737888</td>\n",
       "      <td>Mitchell</td>\n",
       "      <td>850</td>\n",
       "      <td>Spain</td>\n",
       "      <td>Female</td>\n",
       "      <td>43</td>\n",
       "      <td>2</td>\n",
       "      <td>125510.82</td>\n",
       "      <td>1</td>\n",
       "      <td>1</td>\n",
       "      <td>1</td>\n",
       "      <td>79084.10</td>\n",
       "      <td>0</td>\n",
       "    </tr>\n",
       "  </tbody>\n",
       "</table>\n",
       "</div>"
      ],
      "text/plain": [
       "   RowNumber  CustomerId   Surname  CreditScore Geography  Gender  Age  \\\n",
       "0          1    15634602  Hargrave          619    France  Female   42   \n",
       "1          2    15647311      Hill          608     Spain  Female   41   \n",
       "2          3    15619304      Onio          502    France  Female   42   \n",
       "3          4    15701354      Boni          699    France  Female   39   \n",
       "4          5    15737888  Mitchell          850     Spain  Female   43   \n",
       "\n",
       "   Tenure    Balance  NumOfProducts  HasCrCard  IsActiveMember  \\\n",
       "0       2       0.00              1          1               1   \n",
       "1       1   83807.86              1          0               1   \n",
       "2       8  159660.80              3          1               0   \n",
       "3       1       0.00              2          0               0   \n",
       "4       2  125510.82              1          1               1   \n",
       "\n",
       "   EstimatedSalary  Exited  \n",
       "0        101348.88       1  \n",
       "1        112542.58       0  \n",
       "2        113931.57       1  \n",
       "3         93826.63       0  \n",
       "4         79084.10       0  "
      ]
     },
     "execution_count": 5,
     "metadata": {},
     "output_type": "execute_result"
    }
   ],
   "source": [
    "customers.head()"
   ]
  },
  {
   "cell_type": "markdown",
   "metadata": {},
   "source": [
    "Le contexte de cette étude reste assez générale car d'un point de vue de l'interprétation ces données nous laissent perplexe. Par exemple, un client qui a quitté une banque a encore une balance positive."
   ]
  },
  {
   "cell_type": "markdown",
   "metadata": {},
   "source": [
    "On observe dix mille individus décrites par 14 variables."
   ]
  },
  {
   "cell_type": "code",
   "execution_count": 6,
   "metadata": {},
   "outputs": [
    {
     "data": {
      "text/plain": [
       "(10000, 14)"
      ]
     },
     "execution_count": 6,
     "metadata": {},
     "output_type": "execute_result"
    }
   ],
   "source": [
    "customers.shape"
   ]
  },
  {
   "cell_type": "code",
   "execution_count": 7,
   "metadata": {},
   "outputs": [
    {
     "data": {
      "text/plain": [
       "Index(['RowNumber', 'CustomerId', 'Surname', 'CreditScore', 'Geography',\n",
       "       'Gender', 'Age', 'Tenure', 'Balance', 'NumOfProducts', 'HasCrCard',\n",
       "       'IsActiveMember', 'EstimatedSalary', 'Exited'],\n",
       "      dtype='object')"
      ]
     },
     "execution_count": 7,
     "metadata": {},
     "output_type": "execute_result"
    }
   ],
   "source": [
    "customers.columns"
   ]
  },
  {
   "cell_type": "markdown",
   "metadata": {},
   "source": [
    "<b> Valeurs manquantes </b>"
   ]
  },
  {
   "cell_type": "code",
   "execution_count": 8,
   "metadata": {},
   "outputs": [
    {
     "data": {
      "text/plain": [
       "RowNumber          0.0\n",
       "CustomerId         0.0\n",
       "Surname            0.0\n",
       "CreditScore        0.0\n",
       "Geography          0.0\n",
       "Gender             0.0\n",
       "Age                0.0\n",
       "Tenure             0.0\n",
       "Balance            0.0\n",
       "NumOfProducts      0.0\n",
       "HasCrCard          0.0\n",
       "IsActiveMember     0.0\n",
       "EstimatedSalary    0.0\n",
       "Exited             0.0\n",
       "dtype: float64"
      ]
     },
     "execution_count": 8,
     "metadata": {},
     "output_type": "execute_result"
    }
   ],
   "source": [
    "customers.isnull().sum()/len(customers)"
   ]
  },
  {
   "cell_type": "markdown",
   "metadata": {},
   "source": [
    "Ces donnée sont complètes, il n'y a pas de valeurs manquantes."
   ]
  },
  {
   "cell_type": "markdown",
   "metadata": {},
   "source": [
    "<b>Description des variables</b>"
   ]
  },
  {
   "cell_type": "code",
   "execution_count": 9,
   "metadata": {},
   "outputs": [
    {
     "name": "stdout",
     "output_type": "stream",
     "text": [
      "<class 'pandas.core.frame.DataFrame'>\n",
      "RangeIndex: 10000 entries, 0 to 9999\n",
      "Data columns (total 14 columns):\n",
      "RowNumber          10000 non-null int64\n",
      "CustomerId         10000 non-null int64\n",
      "Surname            10000 non-null object\n",
      "CreditScore        10000 non-null int64\n",
      "Geography          10000 non-null object\n",
      "Gender             10000 non-null object\n",
      "Age                10000 non-null int64\n",
      "Tenure             10000 non-null int64\n",
      "Balance            10000 non-null float64\n",
      "NumOfProducts      10000 non-null int64\n",
      "HasCrCard          10000 non-null int64\n",
      "IsActiveMember     10000 non-null int64\n",
      "EstimatedSalary    10000 non-null float64\n",
      "Exited             10000 non-null int64\n",
      "dtypes: float64(2), int64(9), object(3)\n",
      "memory usage: 1.1+ MB\n"
     ]
    }
   ],
   "source": [
    "customers.info()"
   ]
  },
  {
   "cell_type": "markdown",
   "metadata": {},
   "source": [
    "### Traitement des données"
   ]
  },
  {
   "cell_type": "code",
   "execution_count": 10,
   "metadata": {},
   "outputs": [
    {
     "data": {
      "text/plain": [
       "10000"
      ]
     },
     "execution_count": 10,
     "metadata": {},
     "output_type": "execute_result"
    }
   ],
   "source": [
    "len(customers[\"CustomerId\"].unique())"
   ]
  },
  {
   "cell_type": "markdown",
   "metadata": {},
   "source": [
    "#### Les variables qualitatives "
   ]
  },
  {
   "cell_type": "markdown",
   "metadata": {},
   "source": [
    "La variable CustomerId étant unique nous servira d'index sur les lignes :"
   ]
  },
  {
   "cell_type": "code",
   "execution_count": 11,
   "metadata": {},
   "outputs": [],
   "source": [
    "customers.index = customers[\"CustomerId\"]"
   ]
  },
  {
   "cell_type": "markdown",
   "metadata": {},
   "source": [
    "Les variables RowNumber, Surname et CustomerId ne seront pas utiles pour notre étude donc elles sont supprimées :"
   ]
  },
  {
   "cell_type": "code",
   "execution_count": 12,
   "metadata": {},
   "outputs": [],
   "source": [
    "customers = customers.drop(columns=[\"CustomerId\",\"RowNumber\",\"Surname\"])"
   ]
  },
  {
   "cell_type": "markdown",
   "metadata": {},
   "source": [
    "Enfin, les variables qualitatives Geography et Gender sont encodées. Les encodeurs connues sont Label Encoder et One Hot Encoder. Ils codent les modalités de chaque variable qualitatives pour une meilleure compréhension des données par nos prédicteurs :"
   ]
  },
  {
   "cell_type": "code",
   "execution_count": 13,
   "metadata": {},
   "outputs": [],
   "source": [
    "from sklearn.preprocessing import LabelEncoder\n",
    "labelencoder = LabelEncoder()\n",
    "customers[\"Gender\"] = labelencoder.fit_transform(customers[\"Gender\"])\n",
    "customers[\"Geography\"] = labelencoder.fit_transform(customers[\"Geography\"])"
   ]
  },
  {
   "cell_type": "markdown",
   "metadata": {},
   "source": [
    "Finalement, on obtient :"
   ]
  },
  {
   "cell_type": "code",
   "execution_count": 14,
   "metadata": {},
   "outputs": [
    {
     "data": {
      "text/html": [
       "<div>\n",
       "<style scoped>\n",
       "    .dataframe tbody tr th:only-of-type {\n",
       "        vertical-align: middle;\n",
       "    }\n",
       "\n",
       "    .dataframe tbody tr th {\n",
       "        vertical-align: top;\n",
       "    }\n",
       "\n",
       "    .dataframe thead th {\n",
       "        text-align: right;\n",
       "    }\n",
       "</style>\n",
       "<table border=\"1\" class=\"dataframe\">\n",
       "  <thead>\n",
       "    <tr style=\"text-align: right;\">\n",
       "      <th></th>\n",
       "      <th>CreditScore</th>\n",
       "      <th>Geography</th>\n",
       "      <th>Gender</th>\n",
       "      <th>Age</th>\n",
       "      <th>Tenure</th>\n",
       "      <th>Balance</th>\n",
       "      <th>NumOfProducts</th>\n",
       "      <th>HasCrCard</th>\n",
       "      <th>IsActiveMember</th>\n",
       "      <th>EstimatedSalary</th>\n",
       "      <th>Exited</th>\n",
       "    </tr>\n",
       "    <tr>\n",
       "      <th>CustomerId</th>\n",
       "      <th></th>\n",
       "      <th></th>\n",
       "      <th></th>\n",
       "      <th></th>\n",
       "      <th></th>\n",
       "      <th></th>\n",
       "      <th></th>\n",
       "      <th></th>\n",
       "      <th></th>\n",
       "      <th></th>\n",
       "      <th></th>\n",
       "    </tr>\n",
       "  </thead>\n",
       "  <tbody>\n",
       "    <tr>\n",
       "      <th>15634602</th>\n",
       "      <td>619</td>\n",
       "      <td>0</td>\n",
       "      <td>0</td>\n",
       "      <td>42</td>\n",
       "      <td>2</td>\n",
       "      <td>0.00</td>\n",
       "      <td>1</td>\n",
       "      <td>1</td>\n",
       "      <td>1</td>\n",
       "      <td>101348.88</td>\n",
       "      <td>1</td>\n",
       "    </tr>\n",
       "    <tr>\n",
       "      <th>15647311</th>\n",
       "      <td>608</td>\n",
       "      <td>2</td>\n",
       "      <td>0</td>\n",
       "      <td>41</td>\n",
       "      <td>1</td>\n",
       "      <td>83807.86</td>\n",
       "      <td>1</td>\n",
       "      <td>0</td>\n",
       "      <td>1</td>\n",
       "      <td>112542.58</td>\n",
       "      <td>0</td>\n",
       "    </tr>\n",
       "    <tr>\n",
       "      <th>15619304</th>\n",
       "      <td>502</td>\n",
       "      <td>0</td>\n",
       "      <td>0</td>\n",
       "      <td>42</td>\n",
       "      <td>8</td>\n",
       "      <td>159660.80</td>\n",
       "      <td>3</td>\n",
       "      <td>1</td>\n",
       "      <td>0</td>\n",
       "      <td>113931.57</td>\n",
       "      <td>1</td>\n",
       "    </tr>\n",
       "    <tr>\n",
       "      <th>15701354</th>\n",
       "      <td>699</td>\n",
       "      <td>0</td>\n",
       "      <td>0</td>\n",
       "      <td>39</td>\n",
       "      <td>1</td>\n",
       "      <td>0.00</td>\n",
       "      <td>2</td>\n",
       "      <td>0</td>\n",
       "      <td>0</td>\n",
       "      <td>93826.63</td>\n",
       "      <td>0</td>\n",
       "    </tr>\n",
       "    <tr>\n",
       "      <th>15737888</th>\n",
       "      <td>850</td>\n",
       "      <td>2</td>\n",
       "      <td>0</td>\n",
       "      <td>43</td>\n",
       "      <td>2</td>\n",
       "      <td>125510.82</td>\n",
       "      <td>1</td>\n",
       "      <td>1</td>\n",
       "      <td>1</td>\n",
       "      <td>79084.10</td>\n",
       "      <td>0</td>\n",
       "    </tr>\n",
       "  </tbody>\n",
       "</table>\n",
       "</div>"
      ],
      "text/plain": [
       "            CreditScore  Geography  Gender  Age  Tenure    Balance  \\\n",
       "CustomerId                                                           \n",
       "15634602            619          0       0   42       2       0.00   \n",
       "15647311            608          2       0   41       1   83807.86   \n",
       "15619304            502          0       0   42       8  159660.80   \n",
       "15701354            699          0       0   39       1       0.00   \n",
       "15737888            850          2       0   43       2  125510.82   \n",
       "\n",
       "            NumOfProducts  HasCrCard  IsActiveMember  EstimatedSalary  Exited  \n",
       "CustomerId                                                                     \n",
       "15634602                1          1               1        101348.88       1  \n",
       "15647311                1          0               1        112542.58       0  \n",
       "15619304                3          1               0        113931.57       1  \n",
       "15701354                2          0               0         93826.63       0  \n",
       "15737888                1          1               1         79084.10       0  "
      ]
     },
     "execution_count": 14,
     "metadata": {},
     "output_type": "execute_result"
    }
   ],
   "source": [
    "customers.head()"
   ]
  },
  {
   "cell_type": "markdown",
   "metadata": {},
   "source": [
    "### Exploration"
   ]
  },
  {
   "cell_type": "markdown",
   "metadata": {},
   "source": [
    "#### Distributions"
   ]
  },
  {
   "cell_type": "code",
   "execution_count": 15,
   "metadata": {},
   "outputs": [
    {
     "data": {
      "image/png": "[encoded data removed]",
      "text/plain": [
       "<Figure size 1080x1296 with 12 Axes>"
      ]
     },
     "metadata": {
      "needs_background": "light"
     },
     "output_type": "display_data"
    }
   ],
   "source": [
    "figure, axes = plt.subplots(4,3, figsize=(15,18))\n",
    "for i in range(len(customers.columns)): \n",
    "    seaborn.distplot(a=customers[customers.columns[i]], ax = axes[i // 3][i % 3], color = \"#4682b4\", kde = False).set_title(customers.columns[i])\n",
    "plt.subplots_adjust(top = 0.99, bottom=0.01, hspace=0.5, wspace=0.4)\n",
    "plt.show()"
   ]
  },
  {
   "cell_type": "markdown",
   "metadata": {},
   "source": [
    "- La variable CreditScore a une distribution asymétrique à droite\n",
    "- Les variables Gender et IsActiveMember, HasCrCard  et Exited sont binaires\n",
    "- La variable Geography a trois modalités \n",
    "- La variable Age est asymétrique à gauche avec une traîne à droite\n",
    "- La variable EstimatedSalary a une forte dispersion avec une répartition équitable \n",
    "- Les variables NumOfProducts et Tenure sont discrètes\n",
    "- La variable balance semble être issu d'un mélange de lois\n",
    "\n",
    "Les variables  présentent des intervalles Pour cette classification binaire une LDA aurait pu être envisagée mais cela supposerait d'avoir toutes les variables qui suivent une gaussienne ce qui n'est pas le cas."
   ]
  },
  {
   "cell_type": "markdown",
   "metadata": {},
   "source": [
    "#### Corrélations"
   ]
  },
  {
   "cell_type": "code",
   "execution_count": 16,
   "metadata": {},
   "outputs": [
    {
     "data": {
      "image/png": "[encoded data removed]",
      "text/plain": [
       "<Figure size 936x576 with 2 Axes>"
      ]
     },
     "metadata": {
      "needs_background": "light"
     },
     "output_type": "display_data"
    }
   ],
   "source": [
    "plt.figure(figsize = (13,8))\n",
    "corr = numpy.round(customers.corr(),2) \n",
    "blank = numpy.zeros_like(corr)\n",
    "blank[numpy.triu_indices_from(blank)] = True\n",
    "with seaborn.axes_style(\"white\"):\n",
    "    ax = seaborn.heatmap(corr, mask=blank, annot=True, cmap=\"coolwarm\", linewidths=.5, annot_kws={\"color\":\"black\"})\n",
    "plt.show()"
   ]
  },
  {
   "cell_type": "markdown",
   "metadata": {},
   "source": [
    "On observe que les corrélations entre les variables sont très faibles. "
   ]
  },
  {
   "cell_type": "markdown",
   "metadata": {},
   "source": [
    "<b>  Variable d'intérêt : Exited  </b>"
   ]
  },
  {
   "cell_type": "code",
   "execution_count": 17,
   "metadata": {},
   "outputs": [
    {
     "data": {
      "image/png": "[encoded data removed]",
      "text/plain": [
       "<Figure size 432x288 with 1 Axes>"
      ]
     },
     "metadata": {},
     "output_type": "display_data"
    }
   ],
   "source": [
    "var_int = list(customers[\"Exited\"])\n",
    "leave = var_int.count(1)\n",
    "stay = var_int.count(0)\n",
    "\n",
    "labels = \"Stay\", \"Leave\", \n",
    "sizes = [stay, leave ]\n",
    "colors = [\"yellowgreen\", \"red\"]\n",
    "\n",
    "plt.pie(sizes, labels=labels, colors=colors, autopct=\"%1.1f%%\", shadow=True, startangle=90)\n",
    "plt.axis(\"equal\")\n",
    "plt.show()"
   ]
  },
  {
   "cell_type": "markdown",
   "metadata": {},
   "source": [
    "Au regard du diagramme, on peut dire qu'avec les modèles qu'on va construire,  on cherchera à avoir de bonnes prédictions."
   ]
  },
  {
   "cell_type": "markdown",
   "metadata": {},
   "source": [
    "## Applications des algorithmes d'apprentissage"
   ]
  },
  {
   "cell_type": "markdown",
   "metadata": {},
   "source": [
    "Dans un premier temps il convient de séparer les données en train set et test set. Le nombre d'observations étant élevé, $20\\%$ d'entre elles seront conservées en test."
   ]
  },
  {
   "cell_type": "code",
   "execution_count": 18,
   "metadata": {},
   "outputs": [],
   "source": [
    "X = customers.drop(columns=[\"Exited\"])\n",
    "Y = customers[\"Exited\"]"
   ]
  },
  {
   "cell_type": "code",
   "execution_count": 19,
   "metadata": {},
   "outputs": [],
   "source": [
    "X_train, X_test, Y_train, Y_test = train_test_split(X,Y, test_size=0.2, shuffle=True, random_state=0)"
   ]
  },
  {
   "cell_type": "markdown",
   "metadata": {},
   "source": [
    "### Évaluation de la performance du classifieur"
   ]
  },
  {
   "cell_type": "markdown",
   "metadata": {},
   "source": [
    "Ensuite il va nous falloir des mesures pour évaluer la performance de nos classifieurs. On rappelle que la variable d'intérêt nous indique si chaque quitte ou non la banque. Le résultat pour chaque sujet peut ne pas correspondre à la réalité. Quatre résultats sont possible :\n",
    "\n",
    "- Vrai Positif (VP) : Le client a vraiment quitté la banque et la banque est avertie de son départ \n",
    "- Faux Négatif (FN) : L'individu est encore client de la banque et la banque est avertie\n",
    "- Faux Positif (FP) : Le client n'a pas quitté la banque mais la banque ne le reconnait plus \n",
    "- Vrai Négatif (VN) : Le client a quitté la banque mais la banque le reconnait toujours \n",
    "\n",
    "Ces quatres résultats peuvent être reformulés dans une courbe de contingence ou matrice de confusion. On observe cette matrice dans une fonction <code>viz_confusion_matrix</code>. \n",
    "\n",
    "On définit différents métriques pour mesurer la performancer d'un classifieur binaire :\n",
    "\n",
    "- Accuracy (ACC) = (VP+VN)/(VN+FP+FN+VN)\n",
    "- Precision (PPV) = VP/(VP+VN)\n",
    "- Specificité (SPC) = VN/VN+FP\n",
    "- Sensitivité (SEN) : SEN = VP/VP+FN\n",
    "- F1 Score : Moyenne pondérée de la précision et de la spécificité est intéressant lorsqu'on a affaire à des données «déséquilibrées»"
   ]
  },
  {
   "cell_type": "code",
   "execution_count": 20,
   "metadata": {},
   "outputs": [],
   "source": [
    "def viz_confusion_matrix(Y_pred):\n",
    "    confmat = confusion_matrix(Y_test, Y_pred)\n",
    "    df_confmat = pandas.DataFrame(confmat, index = (0, 1), columns = (0, 1))\n",
    "    fig, ax = plt.subplots(figsize=(9, 6))\n",
    "    seaborn.heatmap(df_confmat, annot=True, fmt='g', ax=ax)\n",
    "    plt.show()"
   ]
  },
  {
   "cell_type": "markdown",
   "metadata": {},
   "source": [
    "On peut aussi regarder la courbe ROC qui trace le Taux de Vrai Positif(TVP) en fonction du Taux de Faux Positif (TFP) qui sont donnés par :\n",
    "\n",
    "$$\\text{TVP} = \\frac{\\text{TVP}}{\\text{TFP+TVP}} \\ \\ \\ \\ \\ \\text{TFP} = \\frac{\\text{TFP}}{\\text{TFP+TVP}}$$\n",
    "\n",
    "L'AUC correspond à l'air sous la courbe ROC. Les valeurs d'AUC sont comprises entre 0 à 1. Un modèle dont 100 % des prédictions sont erronées a un AUC de 0,0. Si toutes ses prédictions sont correctes, son AUC est de 1,0. La fonction <code>viz_roc_curve</code> permet de visualiser la courbe ROC pour un classifieur donné et la fonction <code>eval_perf</code> donne quelques indicateurs métriques."
   ]
  },
  {
   "cell_type": "code",
   "execution_count": 21,
   "metadata": {},
   "outputs": [],
   "source": [
    "def eval_perf(classifier, X_test, Y_test):\n",
    "    Y_pred = classifier.predict(X_test)\n",
    "    tfp, tvp, _ = roc_curve(Y_test.values, classifier.predict_proba(X_test)[:,1])\n",
    "    dict_out = {\n",
    "        \"Precision\" : precision_score(Y_test, Y_pred).round(3),\n",
    "        \"F1 Score\" : f1_score(Y_test, Y_pred).round(3),\n",
    "        \"Accuracy\" : accuracy_score(Y_test, Y_pred).round(3),\n",
    "        'AUC': auc(tfp, tvp).round(3)\n",
    "    }\n",
    "    print(\"Métrique :\", dict_out)"
   ]
  },
  {
   "cell_type": "code",
   "execution_count": 22,
   "metadata": {},
   "outputs": [],
   "source": [
    "def viz_roc_curve(classifier, name, X_test, Y_pred):\n",
    "    tfp, tvp, _ = roc_curve(Y_test.values, classifier.predict_proba(X_test)[:,1])\n",
    "    auc_val = auc(tfp, tvp)\n",
    "    fig, ax = plt.subplots(figsize=(8, 7))\n",
    "    plt.title('Courbe ROC - ' + name)\n",
    "    plt.plot(tfp, tvp)\n",
    "    plt.plot([0, 1], ls = \"--\")\n",
    "    plt.plot([0, 0], [1, 0] , c = \".7\"), plt.plot([1, 1] , c = \".7\")\n",
    "    plt.ylabel(\"Taux de Vrai Positif\")\n",
    "    plt.xlabel(\"Taux de Faux Positif\")\n",
    "    plt.show()"
   ]
  },
  {
   "cell_type": "markdown",
   "metadata": {},
   "source": [
    "### Régression logistique"
   ]
  },
  {
   "cell_type": "markdown",
   "metadata": {},
   "source": [
    "La régression logisitique est une méthode de régression linéaire généralisée c'est-à-dire un modèle linéaire avec une fonction lien qui fait la liaison entre l'output de la régression linéaire multiple et la probabilité a priori de chaque classe $p(C_k|x) \\in [0,1]$ utilisant la fonction sigmoid\n",
    "$$p(C_k|w,_xi)=\\frac{1}{1+\\text{exp}(-w.x_i)}$$\n",
    "Le but est de maximiser la fonction de coût $L$ \n",
    "$$min(L) = \\Pi_{N}^{i}p(C_k|w,x_i)$$\n",
    "avec $w$ vecteur poids et $x_i$ l'observation."
   ]
  },
  {
   "cell_type": "markdown",
   "metadata": {},
   "source": [
    "#### Le modèle"
   ]
  },
  {
   "cell_type": "code",
   "execution_count": 23,
   "metadata": {},
   "outputs": [],
   "source": [
    "LogReg = LogisticRegression(class_weight = \"balanced\")"
   ]
  },
  {
   "cell_type": "markdown",
   "metadata": {},
   "source": [
    "#### Sélection de variables"
   ]
  },
  {
   "cell_type": "markdown",
   "metadata": {},
   "source": [
    "Recursive Feature Elimination (RFE) is based on the idea to repeatedly construct a model and choose either the best or worst performing feature, setting the feature aside and then repeating the process with the rest of the features. This process is applied until all features in the dataset are exhausted. The goal of RFE is to select features by recursively considering smaller and smaller sets of features."
   ]
  },
  {
   "cell_type": "code",
   "execution_count": 24,
   "metadata": {},
   "outputs": [
    {
     "name": "stdout",
     "output_type": "stream",
     "text": [
      "[False  True  True  True False False  True False  True False]\n",
      "[4 1 1 1 3 5 1 2 1 6]\n"
     ]
    },
    {
     "data": {
      "text/plain": [
       "Index(['Geography', 'Gender', 'Age', 'NumOfProducts', 'IsActiveMember'], dtype='object')"
      ]
     },
     "execution_count": 24,
     "metadata": {},
     "output_type": "execute_result"
    }
   ],
   "source": [
    "#Sélection des meilleures variables \n",
    "rfe = RFE(LogReg, n_features_to_select= None)\n",
    "rfe = rfe.fit(X_train, Y_train)\n",
    "\n",
    "#Sommaire des variables sélectionnées\n",
    "print(rfe.support_)\n",
    "print(rfe.ranking_)\n",
    "\n",
    "# Train set avec sélection de variables\n",
    "X_train_selectedvar = X_train.columns[rfe.support_]\n",
    "X_train_selectedvar"
   ]
  },
  {
   "cell_type": "markdown",
   "metadata": {},
   "source": [
    "#### Fitting"
   ]
  },
  {
   "cell_type": "code",
   "execution_count": 25,
   "metadata": {},
   "outputs": [
    {
     "data": {
      "text/plain": [
       "LogisticRegression(C=1.0, class_weight='balanced', dual=False,\n",
       "                   fit_intercept=True, intercept_scaling=1, l1_ratio=None,\n",
       "                   max_iter=100, multi_class='warn', n_jobs=None, penalty='l2',\n",
       "                   random_state=None, solver='warn', tol=0.0001, verbose=0,\n",
       "                   warm_start=False)"
      ]
     },
     "execution_count": 25,
     "metadata": {},
     "output_type": "execute_result"
    }
   ],
   "source": [
    "LogReg.fit(X_train[X_train_selectedvar], Y_train)"
   ]
  },
  {
   "cell_type": "markdown",
   "metadata": {},
   "source": [
    "#### Prédiction"
   ]
  },
  {
   "cell_type": "code",
   "execution_count": 26,
   "metadata": {},
   "outputs": [],
   "source": [
    "Y_pred = LogReg.predict(X_test[X_train_selectedvar])"
   ]
  },
  {
   "cell_type": "markdown",
   "metadata": {},
   "source": [
    "#### Performance"
   ]
  },
  {
   "cell_type": "code",
   "execution_count": 27,
   "metadata": {},
   "outputs": [
    {
     "name": "stdout",
     "output_type": "stream",
     "text": [
      "Métrique : {'Precision': 0.367, 'F1 Score': 0.485, 'Accuracy': 0.692, 'AUC': 0.755}\n"
     ]
    }
   ],
   "source": [
    "eval_perf(LogReg, X_test[X_train_selectedvar], Y_test)"
   ]
  },
  {
   "cell_type": "code",
   "execution_count": 28,
   "metadata": {},
   "outputs": [
    {
     "data": {
      "image/png": "[encoded data removed]",
      "text/plain": [
       "<Figure size 648x432 with 2 Axes>"
      ]
     },
     "metadata": {
      "needs_background": "light"
     },
     "output_type": "display_data"
    }
   ],
   "source": [
    "viz_confusion_matrix(Y_pred)"
   ]
  },
  {
   "cell_type": "code",
   "execution_count": 29,
   "metadata": {},
   "outputs": [
    {
     "data": {
      "image/png": "[encoded data removed]",
      "text/plain": [
       "<Figure size 576x504 with 1 Axes>"
      ]
     },
     "metadata": {
      "needs_background": "light"
     },
     "output_type": "display_data"
    }
   ],
   "source": [
    "viz_roc_curve(LogReg, \"Régression Logistique\", X_test[X_train_selectedvar], Y_pred)"
   ]
  },
  {
   "cell_type": "markdown",
   "metadata": {},
   "source": [
    "Les résultats obtenus sont satisfaisants : on obtient une aire sous la courbe ROC de 0.755 (rappelons qu'une aire égale à 0.5 revient à une prédiction aléatoire). On constate bien sur le graphique que la courbe ROC se détache de la première bissectrice. Par ailleurs, la matrice de transition nous indique qu'il y a plus vrais positifs que de faux positifs et plus de vrais négatifs que de faux négatifs : ce qui est cohérent avec les résultats observés précédemment.\n",
    "Enfin, on obtient une accuracy 69.2% ce qui signifie que notre algorithme prédit le bon label pour 69.2% de notre base de test."
   ]
  },
  {
   "cell_type": "markdown",
   "metadata": {},
   "source": [
    "### K-Nearest Neighbors"
   ]
  },
  {
   "cell_type": "markdown",
   "metadata": {},
   "source": [
    "Cette méthode nécessite de choisir une dissimilarité $\\delta$ qui correspond à une mesure distance entre les individus. Ici, nous choisissons. À partir d'un nouvel indinvidi $e_{n+1}$, on calcule tous les $\\delta(e_{n+1},e_i$) pour $1\\le i \\le n$.\n",
    "- On regarde quels sont les cas plus proches voisins c'est-à-dire $\\delta(e_{n+1}, e_{i1}) \\le \\delta(e_{n+1}, e_{i2}) \\le ... \\le \\delta(e_{n+1}, e_{ik}) \\le $ tous les autres $\\delta(e_{n+1}, e_{i})$. \n",
    "- On attribue la classe majoritaire (0 ou 1) parmi les $Y_{i1},...,Y_{ik}$."
   ]
  },
  {
   "cell_type": "markdown",
   "metadata": {},
   "source": [
    "Tout d'abord nous implémentons une méthode dîte «naïve» qui consiste à choisir un nombre $K$ de proches voisins. "
   ]
  },
  {
   "cell_type": "markdown",
   "metadata": {},
   "source": [
    "#### Méthode naïve"
   ]
  },
  {
   "cell_type": "markdown",
   "metadata": {},
   "source": [
    "<b> Le modèle </b>"
   ]
  },
  {
   "cell_type": "markdown",
   "metadata": {},
   "source": [
    "Commençons par choisir de façon naïve un nombre de voisins égal à 5."
   ]
  },
  {
   "cell_type": "code",
   "execution_count": 30,
   "metadata": {},
   "outputs": [
    {
     "data": {
      "text/plain": [
       "KNeighborsClassifier(algorithm='auto', leaf_size=30, metric='minkowski',\n",
       "                     metric_params=None, n_jobs=None, n_neighbors=5, p=2,\n",
       "                     weights='uniform')"
      ]
     },
     "execution_count": 30,
     "metadata": {},
     "output_type": "execute_result"
    }
   ],
   "source": [
    "KNN = KNeighborsClassifier(n_neighbors=5)\n",
    "KNN.fit(X_train, Y_train)"
   ]
  },
  {
   "cell_type": "markdown",
   "metadata": {},
   "source": [
    "<b> Prédiction </b>"
   ]
  },
  {
   "cell_type": "code",
   "execution_count": 31,
   "metadata": {},
   "outputs": [],
   "source": [
    "Y_pred = KNN.predict(X_test)"
   ]
  },
  {
   "cell_type": "markdown",
   "metadata": {},
   "source": [
    "<b> Performance </b>"
   ]
  },
  {
   "cell_type": "code",
   "execution_count": 32,
   "metadata": {},
   "outputs": [
    {
     "name": "stdout",
     "output_type": "stream",
     "text": [
      "Métrique : {'Precision': 0.291, 'F1 Score': 0.163, 'Accuracy': 0.764, 'AUC': 0.519}\n"
     ]
    }
   ],
   "source": [
    "eval_perf(KNN, X_test, Y_test)"
   ]
  },
  {
   "cell_type": "code",
   "execution_count": 33,
   "metadata": {},
   "outputs": [
    {
     "data": {
      "image/png": "[encoded data removed]",
      "text/plain": [
       "<Figure size 648x432 with 2 Axes>"
      ]
     },
     "metadata": {
      "needs_background": "light"
     },
     "output_type": "display_data"
    }
   ],
   "source": [
    "viz_confusion_matrix(Y_pred)"
   ]
  },
  {
   "cell_type": "code",
   "execution_count": 34,
   "metadata": {},
   "outputs": [
    {
     "data": {
      "image/png": "[encoded data removed]",
      "text/plain": [
       "<Figure size 576x504 with 1 Axes>"
      ]
     },
     "metadata": {
      "needs_background": "light"
     },
     "output_type": "display_data"
    }
   ],
   "source": [
    "viz_roc_curve(KNN, \"K-Nearest Neighbors\", X_test, Y_pred)"
   ]
  },
  {
   "cell_type": "markdown",
   "metadata": {},
   "source": [
    "Ensuite, nous implémentons une méthode où on détermine $K$ par validation croisée."
   ]
  },
  {
   "cell_type": "markdown",
   "metadata": {},
   "source": [
    "Les résultats obtenus ne sont pas satisfaisants : on obtient certes une accuracy relativement élevée 76.4%, néanmoins l'aire sous la courbe ROC est très faible : 0.519. Cela est dû au fait que notre algorithme prédit presque toujours la classe majoritaire (les clients qui restent). On le constate bien lorsqu'on observe la matrice de confusion. Ainsi, on obtient une accuracy élevée car la majorité de nos observations appartiennent à la classe '0', néanmoins notre algorithme n'est pas efficient car il prédit mal les clients qui vont quitter la banque."
   ]
  },
  {
   "cell_type": "markdown",
   "metadata": {},
   "source": [
    "#### Méthode par validation croisée"
   ]
  },
  {
   "cell_type": "markdown",
   "metadata": {},
   "source": [
    "Pour chaque classifieur de paramètre $K$ 10 validation croisées sont réalisées."
   ]
  },
  {
   "cell_type": "code",
   "execution_count": 35,
   "metadata": {},
   "outputs": [
    {
     "data": {
      "text/plain": [
       "GridSearchCV(cv=10, error_score='raise-deprecating',\n",
       "             estimator=KNeighborsClassifier(algorithm='auto', leaf_size=30,\n",
       "                                            metric='minkowski',\n",
       "                                            metric_params=None, n_jobs=None,\n",
       "                                            n_neighbors=5, p=2,\n",
       "                                            weights='uniform'),\n",
       "             iid='warn', n_jobs=None,\n",
       "             param_grid={'n_neighbors': [1, 2, 3, 4, 5, 6, 7, 8, 9, 10, 11, 12,\n",
       "                                         13, 14, 15, 16, 17, 18, 19, 20, 21, 22,\n",
       "                                         23, 24, 25, 26, 27, 28, 29, 30],\n",
       "                         'weights': ['uniform', 'distance']},\n",
       "             pre_dispatch='2*n_jobs', refit=True, return_train_score=False,\n",
       "             scoring='accuracy', verbose=0)"
      ]
     },
     "execution_count": 35,
     "metadata": {},
     "output_type": "execute_result"
    }
   ],
   "source": [
    "k_range = list(range(1, 31)) # Intervalle de k\n",
    "weight_opts = [\"uniform\", \"distance\"] # Option sur les poids\n",
    "param_grid = dict(n_neighbors = k_range, weights = weight_opts)\n",
    "\n",
    "cv_knn = GridSearchCV(KNN, param_grid, scoring=\"accuracy\", cv=10)\n",
    "cv_knn.fit(X_train, Y_train)"
   ]
  },
  {
   "cell_type": "code",
   "execution_count": 36,
   "metadata": {},
   "outputs": [
    {
     "name": "stdout",
     "output_type": "stream",
     "text": [
      "Meilleur score : 0.796125\n",
      "Paramètres optimaux : {'n_neighbors': 24, 'weights': 'uniform'}\n"
     ]
    }
   ],
   "source": [
    "print(\"Meilleur score : \" + str(cv_knn.best_score_))\n",
    "print(\"Paramètres optimaux : \" + str(cv_knn.best_params_))"
   ]
  },
  {
   "cell_type": "markdown",
   "metadata": {},
   "source": [
    "On utilise le meilleur paramètre pour faire de la prédiction :"
   ]
  },
  {
   "cell_type": "code",
   "execution_count": 37,
   "metadata": {},
   "outputs": [],
   "source": [
    "KNN_opt = KNeighborsClassifier(n_neighbors=24, weights=\"uniform\")"
   ]
  },
  {
   "cell_type": "code",
   "execution_count": 38,
   "metadata": {},
   "outputs": [
    {
     "data": {
      "text/plain": [
       "KNeighborsClassifier(algorithm='auto', leaf_size=30, metric='minkowski',\n",
       "                     metric_params=None, n_jobs=None, n_neighbors=24, p=2,\n",
       "                     weights='uniform')"
      ]
     },
     "execution_count": 38,
     "metadata": {},
     "output_type": "execute_result"
    }
   ],
   "source": [
    "KNN_opt.fit(X_train, Y_train)"
   ]
  },
  {
   "cell_type": "code",
   "execution_count": 39,
   "metadata": {},
   "outputs": [
    {
     "name": "stdout",
     "output_type": "stream",
     "text": [
      "Métrique : {'Precision': 0.2, 'F1 Score': 0.005, 'Accuracy': 0.796, 'AUC': 0.542}\n"
     ]
    }
   ],
   "source": [
    "eval_perf(KNN_opt, X_test, Y_test)"
   ]
  },
  {
   "cell_type": "code",
   "execution_count": 40,
   "metadata": {},
   "outputs": [
    {
     "data": {
      "image/png": "[encoded data removed]",
      "text/plain": [
       "<Figure size 576x504 with 1 Axes>"
      ]
     },
     "metadata": {
      "needs_background": "light"
     },
     "output_type": "display_data"
    }
   ],
   "source": [
    "viz_roc_curve(KNN_opt, \"K-Nearest Neighbors\", X_test, Y_pred)"
   ]
  },
  {
   "cell_type": "markdown",
   "metadata": {},
   "source": [
    "On a une amélioration de l'accuracy mais les résultats demeurent assez pauvre, une aire sous un peu plus élevée mais toujours aussi faible qui traduit un AUC de 0.54. Cet algorithme n'est pas adapté pour ce cas."
   ]
  },
  {
   "cell_type": "markdown",
   "metadata": {},
   "source": [
    "### Random Forest"
   ]
  },
  {
   "cell_type": "markdown",
   "metadata": {},
   "source": [
    "#### Méthode Naïve"
   ]
  },
  {
   "cell_type": "markdown",
   "metadata": {},
   "source": [
    "On peut commencer par fixer le nombre de classifieurs à 100 (paramètre n_estimators), choisir le critère de Gini (paramètre criterion) et la profondeur maximale des arbres à 10 (paramètre max_depth). On ajoute également le paramètre class_weight = \"balanced\"."
   ]
  },
  {
   "cell_type": "markdown",
   "metadata": {},
   "source": [
    "#### Le modèle"
   ]
  },
  {
   "cell_type": "code",
   "execution_count": 41,
   "metadata": {},
   "outputs": [],
   "source": [
    "RandomForest = RandomForestClassifier(n_estimators=100, criterion=\"gini\", max_depth=10, n_jobs=-1, class_weight=\"balanced\")"
   ]
  },
  {
   "cell_type": "markdown",
   "metadata": {},
   "source": [
    "#### Fitting"
   ]
  },
  {
   "cell_type": "code",
   "execution_count": 42,
   "metadata": {},
   "outputs": [
    {
     "data": {
      "text/plain": [
       "RandomForestClassifier(bootstrap=True, class_weight='balanced',\n",
       "                       criterion='gini', max_depth=10, max_features='auto',\n",
       "                       max_leaf_nodes=None, min_impurity_decrease=0.0,\n",
       "                       min_impurity_split=None, min_samples_leaf=1,\n",
       "                       min_samples_split=2, min_weight_fraction_leaf=0.0,\n",
       "                       n_estimators=100, n_jobs=-1, oob_score=False,\n",
       "                       random_state=None, verbose=0, warm_start=False)"
      ]
     },
     "execution_count": 42,
     "metadata": {},
     "output_type": "execute_result"
    }
   ],
   "source": [
    "RandomForest.fit(X_train,Y_train)"
   ]
  },
  {
   "cell_type": "markdown",
   "metadata": {},
   "source": [
    "#### Performance"
   ]
  },
  {
   "cell_type": "code",
   "execution_count": 43,
   "metadata": {},
   "outputs": [
    {
     "name": "stdout",
     "output_type": "stream",
     "text": [
      "Métrique : {'Precision': 0.579, 'F1 Score': 0.627, 'Accuracy': 0.836, 'AUC': 0.869}\n"
     ]
    }
   ],
   "source": [
    "eval_perf(RandomForest, X_test, Y_test)"
   ]
  },
  {
   "cell_type": "code",
   "execution_count": 44,
   "metadata": {},
   "outputs": [
    {
     "data": {
      "image/png": "[encoded data removed]",
      "text/plain": [
       "<Figure size 648x432 with 2 Axes>"
      ]
     },
     "metadata": {
      "needs_background": "light"
     },
     "output_type": "display_data"
    }
   ],
   "source": [
    "viz_confusion_matrix(Y_pred)"
   ]
  },
  {
   "cell_type": "code",
   "execution_count": 45,
   "metadata": {},
   "outputs": [
    {
     "data": {
      "image/png": "[encoded data removed]",
      "text/plain": [
       "<Figure size 576x504 with 1 Axes>"
      ]
     },
     "metadata": {
      "needs_background": "light"
     },
     "output_type": "display_data"
    }
   ],
   "source": [
    "viz_roc_curve(RandomForest, \"Random Forest\", X_test, Y_pred)"
   ]
  },
  {
   "cell_type": "markdown",
   "metadata": {},
   "source": [
    "On obtient de bons résultats : une aire sous la courbe ROC de 0.869 et une accuracy de 83.6%. Comme pour la regression logistique nous avons des résultats intéressants, néanmoins, l'algorithme de RandomForest nous fournit des meilleures performances parmi les trois pour l'instant."
   ]
  },
  {
   "cell_type": "markdown",
   "metadata": {},
   "source": [
    "#### Méthode par  validation croisée "
   ]
  },
  {
   "cell_type": "markdown",
   "metadata": {},
   "source": [
    "Les paramètres les plus importants pour le Random Forest sont :\n",
    "\n",
    "- n_estimators : nombre d'arbres\n",
    "- max_features : le nombre maximal de variables considérées pour découper un noeud\n",
    "- max_depth : la profondeur de l'arbre\n",
    "- min_samples_split : le nombre minimal de points placés dans un noeud avant de le découper\n",
    "- min_samples_leaf : le nombre minimal de points autorisés dans une feuille <br>\n",
    "- un booléen pour concernant l'application du bootstrap est une méthode de rééchantillonnage des observations."
   ]
  },
  {
   "cell_type": "code",
   "execution_count": 46,
   "metadata": {},
   "outputs": [
    {
     "data": {
      "text/plain": [
       "GridSearchCV(cv=5, error_score='raise-deprecating',\n",
       "             estimator=RandomForestClassifier(bootstrap=True, class_weight=None,\n",
       "                                              criterion='gini', max_depth=None,\n",
       "                                              max_features='auto',\n",
       "                                              max_leaf_nodes=None,\n",
       "                                              min_impurity_decrease=0.0,\n",
       "                                              min_impurity_split=None,\n",
       "                                              min_samples_leaf=1,\n",
       "                                              min_samples_split=2,\n",
       "                                              min_weight_fraction_leaf=0.0,\n",
       "                                              n_estimators='warn', n_jobs=None,\n",
       "                                              oob_score=False,\n",
       "                                              random_state=None, verbose=0,\n",
       "                                              warm_start=False),\n",
       "             iid='warn', n_jobs=None,\n",
       "             param_grid={'max_depth': [3, 5, 6, 7, 8],\n",
       "                         'max_features': [2, 4, 6, 7, 8, 9],\n",
       "                         'min_samples_split': [3, 5, 6, 7],\n",
       "                         'n_estimators': [50, 100]},\n",
       "             pre_dispatch='2*n_jobs', refit=True, return_train_score=False,\n",
       "             scoring=None, verbose=0)"
      ]
     },
     "execution_count": 46,
     "metadata": {},
     "output_type": "execute_result"
    }
   ],
   "source": [
    "param_grid = {'max_depth': [3, 5, 6, 7, 8], 'max_features': [2,4,6,7,8,9],'n_estimators':[50,100],'min_samples_split': [3, 5, 6, 7]}\n",
    "RF_grid = GridSearchCV(RandomForestClassifier(), param_grid, cv=5, refit=True, verbose=0)\n",
    "RF_grid.fit(X_train,Y_train)"
   ]
  },
  {
   "cell_type": "code",
   "execution_count": 47,
   "metadata": {},
   "outputs": [
    {
     "data": {
      "text/plain": [
       "{'max_depth': 8,\n",
       " 'max_features': 9,\n",
       " 'min_samples_split': 5,\n",
       " 'n_estimators': 100}"
      ]
     },
     "execution_count": 47,
     "metadata": {},
     "output_type": "execute_result"
    }
   ],
   "source": [
    "RF_grid.best_params_"
   ]
  },
  {
   "cell_type": "code",
   "execution_count": 49,
   "metadata": {},
   "outputs": [],
   "source": [
    "RF_opt = RandomForestClassifier(bootstrap=True, criterion='gini',max_depth=8, max_features=9, min_samples_split=5)"
   ]
  },
  {
   "cell_type": "code",
   "execution_count": 50,
   "metadata": {},
   "outputs": [
    {
     "data": {
      "text/plain": [
       "RandomForestClassifier(bootstrap=True, class_weight=None, criterion='gini',\n",
       "                       max_depth=8, max_features=9, max_leaf_nodes=None,\n",
       "                       min_impurity_decrease=0.0, min_impurity_split=None,\n",
       "                       min_samples_leaf=1, min_samples_split=5,\n",
       "                       min_weight_fraction_leaf=0.0, n_estimators=10,\n",
       "                       n_jobs=None, oob_score=False, random_state=None,\n",
       "                       verbose=0, warm_start=False)"
      ]
     },
     "execution_count": 50,
     "metadata": {},
     "output_type": "execute_result"
    }
   ],
   "source": [
    "RF_opt.fit(X_train, Y_train)"
   ]
  },
  {
   "cell_type": "markdown",
   "metadata": {},
   "source": [
    "On a une "
   ]
  },
  {
   "cell_type": "code",
   "execution_count": 51,
   "metadata": {},
   "outputs": [
    {
     "name": "stdout",
     "output_type": "stream",
     "text": [
      "Métrique : {'Precision': 0.718, 'F1 Score': 0.584, 'Accuracy': 0.858, 'AUC': 0.866}\n"
     ]
    }
   ],
   "source": [
    "eval_perf(RF_opt, X_test, Y_test)"
   ]
  },
  {
   "cell_type": "code",
   "execution_count": 75,
   "metadata": {},
   "outputs": [
    {
     "data": {
      "image/png": "[encoded data removed]",
      "text/plain": [
       "<Figure size 576x504 with 1 Axes>"
      ]
     },
     "metadata": {
      "needs_background": "light"
     },
     "output_type": "display_data"
    }
   ],
   "source": [
    "viz_roc_curve(RF_opt, \"Random Forest\", X_test, Y_pred)"
   ]
  },
  {
   "cell_type": "markdown",
   "metadata": {},
   "source": [
    "Au niveau des métriques, on obtient de bons résultats avec des taux élevés. De plus, l'aire AUC est sous la courbe est de 0.86 avec un accuracy de 85.8%. Le Random Forest offre des résultats convaincants. Il n'est pas pourtant l'algorithme le plus simple à mettre en oeuvre. En effet, par son nombre élevé de paramètres il est difficile de tuner."
   ]
  },
  {
   "cell_type": "markdown",
   "metadata": {},
   "source": [
    "### Support Vector Machine"
   ]
  },
  {
   "cell_type": "markdown",
   "metadata": {},
   "source": [
    "Les machines à vecteurs supports est un cas particulier du minimiseur du risque empirique convexifié. La fonction $\\phi$ la plus couramment utilisée pour les SVM est la perte charnière *$\\phi(x)=(1+x)_{+},$* mais toute autre $\\phi$  peut également étre utilisée avec succès. La caractéristique principale des SVM porte non pas sur le choix de $\\phi,$ mais sur le choix de l'ensemble $\\mathcal{H}$ sur lequel se fait la minimisation du $\\phi$ -risque. Dans le cas des SVM, $\\mathcal{H}$ a la particularité d'être une boule dans un espace de Hilbert.\n",
    "\n",
    "On peut définir le minimiseur du $\\phi$ -risque empirique sur la boule de rayon $t>0$ dans l'espace $\\mathcal{H}_{0} .$ Pour tout $t>0$ fixé, on définit alors le prédicteur\n",
    "\n",
    "$$\\widehat{h}{t} \\in \\arg \\min _{h \\in \\mathcal{H}{0}:\\|h\\| \\leq t} \\frac{1}{n} \\sum_{i=1}^{n} \\phi\\left(-Y_{i} h\\left(X_{i}\\right)\\right) (*)$$\n"
   ]
  },
  {
   "cell_type": "markdown",
   "metadata": {},
   "source": [
    "#### Méthode Naïve"
   ]
  },
  {
   "cell_type": "code",
   "execution_count": null,
   "metadata": {},
   "outputs": [],
   "source": [
    "\n",
    "svc = SVC(kernel='rbf', C=1, gamma=0.1, probability=True)\n",
    "## c-> Paramètre de régularisation \n",
    "## gamma -> coefficient du kernel pour  ‘rbf’, ‘poly’ et  ‘sigmoid’.\n",
    "\n",
    "\n",
    "svc.fit(X_train, Y_train)\n"
   ]
  },
  {
   "cell_type": "markdown",
   "metadata": {},
   "source": [
    "#### Performance"
   ]
  },
  {
   "cell_type": "code",
   "execution_count": null,
   "metadata": {},
   "outputs": [],
   "source": [
    "eval_perf(svc, X_test, Y_test)"
   ]
  },
  {
   "cell_type": "markdown",
   "metadata": {},
   "source": [
    "#### Méthode GridSearch"
   ]
  },
  {
   "cell_type": "code",
   "execution_count": 58,
   "metadata": {},
   "outputs": [
    {
     "data": {
      "text/plain": [
       "GridSearchCV(cv=5, error_score='raise-deprecating',\n",
       "             estimator=SVC(C=1, cache_size=200, class_weight=None, coef0=0.0,\n",
       "                           decision_function_shape='ovr', degree=3, gamma=0.1,\n",
       "                           kernel='rbf', max_iter=-1, probability=True,\n",
       "                           random_state=None, shrinking=True, tol=0.001,\n",
       "                           verbose=False),\n",
       "             iid='warn', n_jobs=1,\n",
       "             param_grid={'C': [0.01, 0.1, 1, 10, 100, 1000],\n",
       "                         'gamma': [0.01, 0.001, 0.0001]},\n",
       "             pre_dispatch='2*n_jobs', refit=True, return_train_score=True,\n",
       "             scoring='roc_auc', verbose=0)"
      ]
     },
     "execution_count": 58,
     "metadata": {},
     "output_type": "execute_result"
    }
   ],
   "source": [
    "# On fait du tuning pour choisir les meilleurs paramètres de notre modèle\n",
    "grid_search= GridSearchCV(estimator=svc, param_grid= { 'C': [0.01, 0.1, 1, 10, 100, 1000] , 'gamma': [ 1e-2, 1e-3, 1e-4] },\n",
    "                          n_jobs=1, refit=True, scoring='roc_auc',verbose=0, cv=5, return_train_score=True)\n",
    "grid_search.fit(X_train, Y_train)"
   ]
  },
  {
   "cell_type": "code",
   "execution_count": 60,
   "metadata": {},
   "outputs": [
    {
     "name": "stdout",
     "output_type": "stream",
     "text": [
      "Métrique : {'Precision': 0.0, 'F1 Score': 0.0, 'Accuracy': 0.797, 'AUC': 0.537}\n"
     ]
    }
   ],
   "source": [
    "svc = SVC(kernel='rbf', probability=True, **grid_search.best_params_)\n",
    "svc.fit(X_train, Y_train)\n",
    "eval_perf(svc, X_test, Y_test)"
   ]
  },
  {
   "cell_type": "markdown",
   "metadata": {},
   "source": [
    "### Réseaux de neurones Artificiels (ANN) \n",
    "Les réseaux de neurones sont réapparus comme des modèles de pointe dans de nombreuses applications de machine learning. L'un de leurs principaux avantages est qu'ils sont capables de capturer des informations dans les  données et de construire des modèles incroyablement complexes.\n",
    "Si l'on dispose de suffisamment de temps de calcul, de données et d'un réglage minutieux des hyperparamètres, les modèles neuronaux surpassent souvent d'autres algorithmes machine learning pour la classification et la régression comme le random forest, le SVM...\n",
    " "
   ]
  },
  {
   "cell_type": "code",
   "execution_count": 16,
   "metadata": {},
   "outputs": [
    {
     "ename": "NameError",
     "evalue": "name 'X_train' is not defined",
     "output_type": "error",
     "traceback": [
      "\u001b[0;31m---------------------------------------------------------------------------\u001b[0m",
      "\u001b[0;31mNameError\u001b[0m                                 Traceback (most recent call last)",
      "\u001b[0;32m<ipython-input-16-9008947db476>\u001b[0m in \u001b[0;36m<module>\u001b[0;34m\u001b[0m\n\u001b[1;32m      3\u001b[0m \u001b[0msimplefilter\u001b[0m\u001b[0;34m(\u001b[0m\u001b[0maction\u001b[0m\u001b[0;34m=\u001b[0m\u001b[0;34m'ignore'\u001b[0m\u001b[0;34m,\u001b[0m \u001b[0mcategory\u001b[0m\u001b[0;34m=\u001b[0m\u001b[0mFutureWarning\u001b[0m\u001b[0;34m)\u001b[0m\u001b[0;34m\u001b[0m\u001b[0;34m\u001b[0m\u001b[0m\n\u001b[1;32m      4\u001b[0m \u001b[0msc\u001b[0m \u001b[0;34m=\u001b[0m \u001b[0mStandardScaler\u001b[0m\u001b[0;34m(\u001b[0m\u001b[0;34m)\u001b[0m\u001b[0;34m\u001b[0m\u001b[0;34m\u001b[0m\u001b[0m\n\u001b[0;32m----> 5\u001b[0;31m \u001b[0mX_train\u001b[0m \u001b[0;34m=\u001b[0m \u001b[0msc\u001b[0m\u001b[0;34m.\u001b[0m\u001b[0mfit_transform\u001b[0m\u001b[0;34m(\u001b[0m\u001b[0mX_train\u001b[0m\u001b[0;34m)\u001b[0m\u001b[0;34m\u001b[0m\u001b[0;34m\u001b[0m\u001b[0m\n\u001b[0m\u001b[1;32m      6\u001b[0m \u001b[0mX_test\u001b[0m \u001b[0;34m=\u001b[0m \u001b[0msc\u001b[0m\u001b[0;34m.\u001b[0m\u001b[0mtransform\u001b[0m\u001b[0;34m(\u001b[0m\u001b[0mX_test\u001b[0m\u001b[0;34m)\u001b[0m\u001b[0;34m\u001b[0m\u001b[0;34m\u001b[0m\u001b[0m\n\u001b[1;32m      7\u001b[0m \u001b[0;34m\u001b[0m\u001b[0m\n",
      "\u001b[0;31mNameError\u001b[0m: name 'X_train' is not defined"
     ]
    }
   ],
   "source": [
    "# Feature Scaling : On fait cette méthode pour éviter que les valeurs abérrantes influencent un résultat. \n",
    "from sklearn.preprocessing import StandardScaler\n",
    "simplefilter(action='ignore', category=FutureWarning)\n",
    "sc = StandardScaler()\n",
    "X_train = sc.fit_transform(X_train)\n",
    "X_test = sc.transform(X_test)\n",
    "\n",
    "### Importation des modules de  keras\n",
    "import keras\n",
    "from keras.models import Sequential ##Initialiser le réseau de neurone\n",
    "from keras.layers import Dense ## Créer les couches du résea de neurone\n",
    "from keras.layers import Dropout ## pour éviter le sur-apprentissage\n",
    "\n",
    "\n",
    "##Initialisation\n",
    "ANN=Sequential ()"
   ]
  },
  {
   "cell_type": "markdown",
   "metadata": {},
   "source": [
    "### Les 7 étapes pour entraîner un  réseau de neurones sont : \n",
    "**1 •** Initialiser les poids avec une valeurs proche de 0 mais different de 0\n",
    "\n",
    "**2 •** Envoyer la premiere observation dans la couche d'entrée avec une variable par neurone\n",
    "\n",
    "**3 •** Propagation avant \n",
    "\n",
    "**4 •** Comparer la valeur obtenue avec la vraie valeur de sortie et mesurer l'erreur avec la fonction cout\n",
    "\n",
    "**5 •** Back propagation en remettant en jour les poids:$\\;$  $w_{t+1}=w_{t}-\\eta \\frac{1}{\\left|I_{t}\\right|} \\sum_{i \\in I_{i}} \\nabla_{w} \\ell_{i}$\n",
    "\n",
    "**6 •** Repeter etapes 1 à 5 et ajuster les poids après chauque observation\n",
    "\n",
    "**7 •** Quand tout le jeu de donnees est passé à travers l'ANN, ca fait une époque . Refaire plus d'époque"
   ]
  },
  {
   "cell_type": "code",
   "execution_count": 70,
   "metadata": {},
   "outputs": [
    {
     "name": "stdout",
     "output_type": "stream",
     "text": [
      "Epoch 1/50\n",
      "8000/8000 [==============================] - 4s 538us/step - loss: 0.5015 - acc: 0.7960\n",
      "Epoch 2/50\n",
      "8000/8000 [==============================] - 2s 303us/step - loss: 0.4442 - acc: 0.7960\n",
      "Epoch 3/50\n",
      "8000/8000 [==============================] - 2s 301us/step - loss: 0.4403 - acc: 0.7960\n",
      "Epoch 4/50\n",
      "8000/8000 [==============================] - 3s 325us/step - loss: 0.4408 - acc: 0.7960\n",
      "Epoch 5/50\n",
      "8000/8000 [==============================] - 3s 314us/step - loss: 0.4400 - acc: 0.7960\n",
      "Epoch 6/50\n",
      "8000/8000 [==============================] - 2s 296us/step - loss: 0.4357 - acc: 0.7960\n",
      "Epoch 7/50\n",
      "8000/8000 [==============================] - 2s 266us/step - loss: 0.4354 - acc: 0.7960\n",
      "Epoch 8/50\n",
      "8000/8000 [==============================] - 2s 301us/step - loss: 0.4359 - acc: 0.7960\n",
      "Epoch 9/50\n",
      "8000/8000 [==============================] - 2s 292us/step - loss: 0.4350 - acc: 0.7960\n",
      "Epoch 10/50\n",
      "8000/8000 [==============================] - 2s 286us/step - loss: 0.4354 - acc: 0.7960\n",
      "Epoch 11/50\n",
      "8000/8000 [==============================] - 2s 291us/step - loss: 0.4357 - acc: 0.7960\n",
      "Epoch 12/50\n",
      "8000/8000 [==============================] - 2s 279us/step - loss: 0.4384 - acc: 0.7960\n",
      "Epoch 13/50\n",
      "8000/8000 [==============================] - 2s 299us/step - loss: 0.4343 - acc: 0.7960\n",
      "Epoch 14/50\n",
      "8000/8000 [==============================] - 2s 280us/step - loss: 0.4358 - acc: 0.7960\n",
      "Epoch 15/50\n",
      "8000/8000 [==============================] - 2s 282us/step - loss: 0.4359 - acc: 0.7960\n",
      "Epoch 16/50\n",
      "8000/8000 [==============================] - 2s 291us/step - loss: 0.4355 - acc: 0.7960\n",
      "Epoch 17/50\n",
      "8000/8000 [==============================] - 2s 285us/step - loss: 0.4338 - acc: 0.7977\n",
      "Epoch 18/50\n",
      "8000/8000 [==============================] - 2s 300us/step - loss: 0.4354 - acc: 0.7962 0s - loss: 0.4\n",
      "Epoch 19/50\n",
      "8000/8000 [==============================] - 2s 309us/step - loss: 0.4330 - acc: 0.7977\n",
      "Epoch 20/50\n",
      "8000/8000 [==============================] - 2s 305us/step - loss: 0.4369 - acc: 0.8081\n",
      "Epoch 21/50\n",
      "8000/8000 [==============================] - 2s 280us/step - loss: 0.4333 - acc: 0.8047\n",
      "Epoch 22/50\n",
      "8000/8000 [==============================] - 3s 315us/step - loss: 0.4318 - acc: 0.8114\n",
      "Epoch 23/50\n",
      "8000/8000 [==============================] - 2s 277us/step - loss: 0.4298 - acc: 0.8184\n",
      "Epoch 24/50\n",
      "8000/8000 [==============================] - 2s 264us/step - loss: 0.4327 - acc: 0.8181\n",
      "Epoch 25/50\n",
      "8000/8000 [==============================] - 2s 276us/step - loss: 0.4323 - acc: 0.8194\n",
      "Epoch 26/50\n",
      "8000/8000 [==============================] - 3s 368us/step - loss: 0.4340 - acc: 0.8197\n",
      "Epoch 27/50\n",
      "8000/8000 [==============================] - 2s 291us/step - loss: 0.4355 - acc: 0.8204\n",
      "Epoch 28/50\n",
      "8000/8000 [==============================] - 2s 290us/step - loss: 0.4329 - acc: 0.8226\n",
      "Epoch 29/50\n",
      "8000/8000 [==============================] - 3s 316us/step - loss: 0.4321 - acc: 0.8195 1s - los\n",
      "Epoch 30/50\n",
      "8000/8000 [==============================] - 2s 271us/step - loss: 0.4324 - acc: 0.8192\n",
      "Epoch 31/50\n",
      "8000/8000 [==============================] - 2s 274us/step - loss: 0.4312 - acc: 0.8199\n",
      "Epoch 32/50\n",
      "8000/8000 [==============================] - 2s 276us/step - loss: 0.4291 - acc: 0.8236\n",
      "Epoch 33/50\n",
      "8000/8000 [==============================] - 2s 272us/step - loss: 0.4322 - acc: 0.8222\n",
      "Epoch 34/50\n",
      "8000/8000 [==============================] - 2s 262us/step - loss: 0.4348 - acc: 0.8199\n",
      "Epoch 35/50\n",
      "8000/8000 [==============================] - 2s 269us/step - loss: 0.4303 - acc: 0.8231\n",
      "Epoch 36/50\n",
      "8000/8000 [==============================] - 2s 279us/step - loss: 0.4308 - acc: 0.8226\n",
      "Epoch 37/50\n",
      "8000/8000 [==============================] - 2s 307us/step - loss: 0.4324 - acc: 0.8215\n",
      "Epoch 38/50\n",
      "8000/8000 [==============================] - 2s 290us/step - loss: 0.4319 - acc: 0.8242\n",
      "Epoch 39/50\n",
      "8000/8000 [==============================] - 2s 277us/step - loss: 0.4316 - acc: 0.8190\n",
      "Epoch 40/50\n",
      "8000/8000 [==============================] - 2s 264us/step - loss: 0.4313 - acc: 0.8211\n",
      "Epoch 41/50\n",
      "8000/8000 [==============================] - 2s 261us/step - loss: 0.4313 - acc: 0.8187\n",
      "Epoch 42/50\n",
      "8000/8000 [==============================] - 2s 264us/step - loss: 0.4337 - acc: 0.8194\n",
      "Epoch 43/50\n",
      "8000/8000 [==============================] - 2s 265us/step - loss: 0.4328 - acc: 0.8215\n",
      "Epoch 44/50\n",
      "8000/8000 [==============================] - 2s 267us/step - loss: 0.4352 - acc: 0.8202\n",
      "Epoch 45/50\n",
      "8000/8000 [==============================] - 2s 266us/step - loss: 0.4318 - acc: 0.8205\n",
      "Epoch 46/50\n",
      "8000/8000 [==============================] - 2s 268us/step - loss: 0.4321 - acc: 0.8220 0s - loss: 0.4325 - acc: 0.82\n",
      "Epoch 47/50\n",
      "8000/8000 [==============================] - 2s 265us/step - loss: 0.4315 - acc: 0.8206\n",
      "Epoch 48/50\n",
      "8000/8000 [==============================] - 2s 265us/step - loss: 0.4312 - acc: 0.8196\n",
      "Epoch 49/50\n",
      "8000/8000 [==============================] - 2s 263us/step - loss: 0.4317 - acc: 0.8210\n",
      "Epoch 50/50\n",
      "8000/8000 [==============================] - 2s 277us/step - loss: 0.4304 - acc: 0.8190\n"
     ]
    },
    {
     "data": {
      "text/plain": [
       "<keras.callbacks.History at 0x1a19ef6d90>"
      ]
     },
     "execution_count": 70,
     "metadata": {},
     "output_type": "execute_result"
    }
   ],
   "source": [
    "simplefilter(action='ignore', category=FutureWarning)\n",
    "simplefilter(action='ignore', category=FutureWarning)\n",
    "##### Ajouter la couche d'entrée et la couche cachée\n",
    "ANN.add(Dense(units=6, activation=\"relu\", kernel_initializer=\"uniform\",input_dim=10))\n",
    "## units -> nombre de neurones qu'on va crééer sur la premère couche cachée : on a pris (nbre varaible d'entrée =10 + output=1) /2 == 6 \n",
    "## activation-> c'est la fonction d'activation qu'on va appliquer à chaque neurone : ici redresseur  =\"relu\"\n",
    "## Kernel_initializer -> initialisation des poids \n",
    "## input_dim -> nbre de couche d'entrée : ici on a  11 variables\n",
    "\n",
    "\n",
    "##Pour éviter le overfitting :\n",
    "ANN.add(Dropout(rate=0.1))\n",
    "##rate-> nombre de neuron en moyenne qui vont etre desactivé : ici on de prendre 10% des neurons == chaque neurone  a 10% de chance d'être desactivé\n",
    "\n",
    "## ajouter un deuxième couche cachée\n",
    "ANN.add(Dense(units=6, activation=\"relu\", kernel_initializer=\"uniform\"))\n",
    "ANN.add(Dropout(rate=0.1))\n",
    "\n",
    "##Ajout de la couche de sortie \n",
    "ANN.add(Dense(units=1, activation=\"sigmoid\", kernel_initializer=\"uniform\"))\n",
    "\n",
    "#Remarque : on pouvait augmenter le nombre de couche cachée de notre réseau , mais on choisit d'essayer avec deux couches cachées.\n",
    "\n",
    "### ALgo gradient stochastique \n",
    "ANN.compile(optimizer=\"adam\",loss=\"binary_crossentropy\",metrics=[\"accuracy\"])\n",
    "#binary_entropie  = log(1-e(sum wxi))\n",
    "\n",
    "### Entrainer notre réseau de neurone \n",
    "ANN.fit(X_train, Y_train,batch_size=10,epochs=50)\n",
    "## batz_size ->lot d'observation pour entraiener à chaque fois notre réseau ( on fait un apprentissage parlot ici )"
   ]
  },
  {
   "cell_type": "code",
   "execution_count": 72,
   "metadata": {},
   "outputs": [
    {
     "name": "stdout",
     "output_type": "stream",
     "text": [
      "Metrics : {'Precision': 0.809, 'F1 Score': 0.346, 'Accuracy': 0.832}\n"
     ]
    }
   ],
   "source": [
    "### Partie 3 : prédictions\n",
    "\n",
    "def eval_perf2(classifier, X_test, Y_test):\n",
    "    Y_pred = classifier.predict(X_test)\n",
    "    Y_pred=(Y_pred>0.5)\n",
    "    \n",
    "    \n",
    "    #tfp, tvp, _ = roc_curve(Y_test, classifier.predict_proba(X_test)[:,1])\n",
    "    dict_out = {\n",
    "        \"Precision\" : precision_score(Y_test, Y_pred).round(3),\n",
    "        \"F1 Score\" : f1_score(Y_test, Y_pred).round(3),\n",
    "        \"Accuracy\" : accuracy_score(Y_test, Y_pred).round(3),\n",
    "        #'AUC': auc(tfp, tvp).round(3)\n",
    "    }\n",
    "    print(\"Metrics :\", dict_out)\n",
    "eval_perf2(ANN, X_test, Y_test)\n"
   ]
  },
  {
   "cell_type": "code",
   "execution_count": 73,
   "metadata": {},
   "outputs": [
    {
     "data": {
      "image/png": "[encoded data removed]",
      "text/plain": [
       "<Figure size 648x432 with 2 Axes>"
      ]
     },
     "metadata": {
      "needs_background": "light"
     },
     "output_type": "display_data"
    }
   ],
   "source": [
    "Y_pred = ANN.predict(X_test)\n",
    "Y_pred=(Y_pred>0.5) ## Pour préciser notre threshold\n",
    "\n",
    "viz_confusion_matrix(Y_pred) "
   ]
  },
  {
   "cell_type": "markdown",
   "metadata": {},
   "source": [
    "On a une précision de l'ordre de 83,2% , ce qui est acceptable et correcte. On va essayer d'augmenter cette précision en   optimisant certaines hyper-paramètres du modèles  : comme hyper-paramètres, on va seulement  prendre  le **batch_size**, les **epochs** , l'**optimizer** . "
   ]
  },
  {
   "cell_type": "code",
   "execution_count": 19,
   "metadata": {},
   "outputs": [
    {
     "name": "stderr",
     "output_type": "stream",
     "text": [
      "Using TensorFlow backend.\n"
     ]
    },
    {
     "ename": "NameError",
     "evalue": "name 'X_train' is not defined",
     "output_type": "error",
     "traceback": [
      "\u001b[0;31m---------------------------------------------------------------------------\u001b[0m",
      "\u001b[0;31mNameError\u001b[0m                                 Traceback (most recent call last)",
      "\u001b[0;32m<ipython-input-19-fa03b4c848b9>\u001b[0m in \u001b[0;36m<module>\u001b[0;34m\u001b[0m\n\u001b[1;32m     25\u001b[0m \u001b[0;34m\u001b[0m\u001b[0m\n\u001b[1;32m     26\u001b[0m \u001b[0mgrid_search\u001b[0m\u001b[0;34m=\u001b[0m\u001b[0mGridSearchCV\u001b[0m\u001b[0;34m(\u001b[0m\u001b[0mestimator\u001b[0m\u001b[0;34m=\u001b[0m\u001b[0mclassifieur\u001b[0m\u001b[0;34m,\u001b[0m\u001b[0mparam_grid\u001b[0m\u001b[0;34m=\u001b[0m\u001b[0mparameters\u001b[0m\u001b[0;34m,\u001b[0m\u001b[0mscoring\u001b[0m\u001b[0;34m=\u001b[0m\u001b[0;34m\"accuracy\"\u001b[0m\u001b[0;34m,\u001b[0m\u001b[0mcv\u001b[0m\u001b[0;34m=\u001b[0m\u001b[0;36m10\u001b[0m\u001b[0;34m)\u001b[0m\u001b[0;34m\u001b[0m\u001b[0;34m\u001b[0m\u001b[0m\n\u001b[0;32m---> 27\u001b[0;31m \u001b[0mgrid_search\u001b[0m\u001b[0;34m=\u001b[0m\u001b[0mgrid_search\u001b[0m\u001b[0;34m.\u001b[0m\u001b[0mfit\u001b[0m\u001b[0;34m(\u001b[0m\u001b[0mX_train\u001b[0m\u001b[0;34m,\u001b[0m\u001b[0mY_train\u001b[0m\u001b[0;34m)\u001b[0m\u001b[0;34m\u001b[0m\u001b[0;34m\u001b[0m\u001b[0m\n\u001b[0m\u001b[1;32m     28\u001b[0m \u001b[0;34m\u001b[0m\u001b[0m\n\u001b[1;32m     29\u001b[0m \u001b[0;34m\u001b[0m\u001b[0m\n",
      "\u001b[0;31mNameError\u001b[0m: name 'X_train' is not defined"
     ]
    }
   ],
   "source": [
    "### Optimisation des hyper-paramètres\n",
    "\n",
    "##Choix des hyperparametres avec l'algo des gridsearch : qui permet de faire plusieurs combinaisons possibles d'hyper-parametres\n",
    "## avant d'aboutir aux hyper-paramètres optimales.\n",
    "\n",
    "from keras.wrappers.scikit_learn import KerasClassifier\n",
    "from sklearn.model_selection import GridSearchCV\n",
    "\n",
    "##On va crééer notre classifieur\n",
    "def build_classifieur (optimizer):\n",
    "    classifieur=Sequential ()\n",
    "    classifieur.add(Dense(units=6, activation=\"relu\", kernel_initializer=\"uniform\",input_dim=11))\n",
    "    classifieur.add(Dense(units=6, activation=\"relu\", kernel_initializer=\"uniform\"))\n",
    "    classifieur.add(Dense(units=1, activation=\"sigmoid\", kernel_initializer=\"uniform\"))\n",
    "    classifieur.compile(optimizer=optimizer,loss=\"binary_crossentropy\",metrics=[\"accuracy\"])\n",
    "    return classifieur\n",
    "\n",
    "classifieur=KerasClassifier(build_fn=build_classifieur)\n",
    "\n",
    "parameters={\"batch_size\":[25,32],\n",
    "             \"epochs\":[100,500],\n",
    "             \"optimizer\":[\"adam\",\"rmsprop\"]}\n",
    "\n",
    "grid_search=GridSearchCV(estimator=classifieur,param_grid=parameters,scoring=\"accuracy\",cv=10)\n",
    "grid_search=grid_search.fit(X_train,Y_train) \n",
    "\n",
    "\n",
    "### Les meilleurs paramètres\n",
    "best_param=grid_search.best_param_\n",
    "best_precision=grid_search.best_score_ "
   ]
  },
  {
   "cell_type": "markdown",
   "metadata": {},
   "source": [
    "# Conclusion"
   ]
  },
  {
   "cell_type": "markdown",
   "metadata": {},
   "source": [
    "L'algorithme de Random Forest parmi ceux utilisés est celui qui offre un résultat le plus convaincant. Néanmoins, on note aussi de bonnes performances par les réseaux de neurones artificiels. Il est donc possible de prédire avec ces algorithmes de manière efficace le désengagement de client. Cependant, le nombre de clients qui se désengage dans les données sont faibles. Les modèles pourrait être améliorés en les entraînant plusieurs fois et évaluer la stabilité de l'algorithme de choix qui donne de bonnes performances. "
   ]
  }
 ],
 "metadata": {
  "kernelspec": {
   "display_name": "Python 3",
   "language": "python",
   "name": "python3"
  },
  "language_info": {
   "codemirror_mode": {
    "name": "ipython",
    "version": 3
   },
   "file_extension": ".py",
   "mimetype": "text/x-python",
   "name": "python",
   "nbconvert_exporter": "python",
   "pygments_lexer": "ipython3",
   "version": "3.7.4"
  }
 },
 "nbformat": 4,
 "nbformat_minor": 4
}
